{
  "nbformat": 4,
  "nbformat_minor": 0,
  "metadata": {
    "colab": {
      "name": "Overfit_underfit.ipynb",
      "provenance": [],
      "authorship_tag": "ABX9TyOfKk8WVDaGpqByqCWu3Ub6",
      "include_colab_link": true
    },
    "kernelspec": {
      "name": "python3",
      "display_name": "Python 3"
    }
  },
  "cells": [
    {
      "cell_type": "markdown",
      "metadata": {
        "id": "view-in-github",
        "colab_type": "text"
      },
      "source": [
        "<a href=\"https://colab.research.google.com/github/xiangli-chen/tensorflow2.x_notes/blob/master/Overfit_underfit.ipynb\" target=\"_parent\"><img src=\"https://colab.research.google.com/assets/colab-badge.svg\" alt=\"Open In Colab\"/></a>"
      ]
    },
    {
      "cell_type": "markdown",
      "metadata": {
        "id": "1pUX08YvEdli",
        "colab_type": "text"
      },
      "source": [
        "# Overfit and underfit"
      ]
    },
    {
      "cell_type": "markdown",
      "metadata": {
        "id": "pVgyXkD0PhEx",
        "colab_type": "text"
      },
      "source": [
        "## Setup"
      ]
    },
    {
      "cell_type": "code",
      "metadata": {
        "id": "b_hbkNFgPj8i",
        "colab_type": "code",
        "outputId": "bae94ded-3425-4db6-91ce-eb19176025ff",
        "colab": {
          "base_uri": "https://localhost:8080/",
          "height": 68
        }
      },
      "source": [
        "from __future__ import absolute_import, division, print_function, unicode_literals\n",
        "\n",
        "%tensorflow_version 2.x\n",
        "%load_ext tensorboard\n",
        "import tensorflow as tf\n",
        "\n",
        "from tensorflow.keras import layers\n",
        "from tensorflow.keras import regularizers\n",
        "\n",
        "print(tf.__version__)\n",
        "\n",
        "!pip install -q git+https://github.com/tensorflow/docs\n",
        "\n",
        "import tensorflow_docs as tfdocs\n",
        "import tensorflow_docs.modeling\n",
        "import tensorflow_docs.plots\n",
        "\n",
        "from  IPython import display\n",
        "from matplotlib import pyplot as plt\n",
        "\n",
        "import numpy as np\n",
        "\n",
        "import pathlib\n",
        "import shutil\n",
        "import tempfile"
      ],
      "execution_count": 0,
      "outputs": [
        {
          "output_type": "stream",
          "text": [
            "TensorFlow 2.x selected.\n",
            "2.1.0\n",
            "  Building wheel for tensorflow-docs (setup.py) ... \u001b[?25l\u001b[?25hdone\n"
          ],
          "name": "stdout"
        }
      ]
    },
    {
      "cell_type": "code",
      "metadata": {
        "id": "mwVQ89yUEiqB",
        "colab_type": "code",
        "outputId": "b506c5ad-9be7-434e-cdb3-b03664d5329f",
        "colab": {
          "base_uri": "https://localhost:8080/",
          "height": 34
        }
      },
      "source": [
        "logdir = pathlib.Path(tempfile.mkdtemp())/\"tensorboard_logs\"\n",
        "shutil.rmtree(logdir, ignore_errors=True)\n",
        "\n",
        "print(f'log dir: {logdir}.')"
      ],
      "execution_count": 0,
      "outputs": [
        {
          "output_type": "stream",
          "text": [
            "log dir: /tmp/tmp5nrxwro7/tensorboard_logs.\n"
          ],
          "name": "stdout"
        }
      ]
    },
    {
      "cell_type": "markdown",
      "metadata": {
        "id": "BnJ6LnxDEzHS",
        "colab_type": "text"
      },
      "source": [
        "## The higgs dataset"
      ]
    },
    {
      "cell_type": "code",
      "metadata": {
        "id": "YESzpI3uFiXH",
        "colab_type": "code",
        "colab": {}
      },
      "source": [
        "gz = tf.keras.utils.get_file('HIGGS.csv.gz', 'https://archive.ics.uci.edu/ml/machine-learning-databases/00280/HIGGS.csv.gz')"
      ],
      "execution_count": 0,
      "outputs": []
    },
    {
      "cell_type": "code",
      "metadata": {
        "id": "cjofJ6bsF4nk",
        "colab_type": "code",
        "outputId": "82d8363d-51ad-4246-e690-672f80609db8",
        "colab": {
          "base_uri": "https://localhost:8080/",
          "height": 384
        }
      },
      "source": [
        "FEATURES = 28\n",
        "ds = tf.data.experimental.CsvDataset(gz,[float(),]*(FEATURES+1), compression_type=\"GZIP\")\n",
        "def pack_row(*row):\n",
        "  label = row[0]\n",
        "  features = tf.stack(row[1:],1)\n",
        "  return features, label\n",
        "\n",
        "packed_ds = ds.batch(10000).map(pack_row).unbatch()\n",
        "for features,label in packed_ds.batch(1000).take(1):\n",
        "  print(len(features))\n",
        "  print(features[0])\n",
        "  plt.hist(features.numpy().flatten(), bins = 101)"
      ],
      "execution_count": 0,
      "outputs": [
        {
          "output_type": "stream",
          "text": [
            "1000\n",
            "tf.Tensor(\n",
            "[ 0.8692932  -0.6350818   0.22569026  0.32747006 -0.6899932   0.75420225\n",
            " -0.24857314 -1.0920639   0.          1.3749921  -0.6536742   0.9303491\n",
            "  1.1074361   1.1389043  -1.5781983  -1.0469854   0.          0.65792954\n",
            " -0.01045457 -0.04576717  3.1019614   1.35376     0.9795631   0.97807616\n",
            "  0.92000484  0.72165745  0.98875093  0.87667835], shape=(28,), dtype=float32)\n"
          ],
          "name": "stdout"
        },
        {
          "output_type": "display_data",
          "data": {
            "image/png": "[encoded data removed]",
            "text/plain": [
              "<Figure size 432x288 with 1 Axes>"
            ]
          },
          "metadata": {
            "tags": []
          }
        }
      ]
    },
    {
      "cell_type": "code",
      "metadata": {
        "id": "0fo9wL3MJEoG",
        "colab_type": "code",
        "colab": {}
      },
      "source": [
        "N_VALIDATION = int(1e3)\n",
        "N_TRAIN = int(1e4)\n",
        "BUFFER_SIZE = int(1e4)\n",
        "BATCH_SIZE = 500\n",
        "STEPS_PER_EPOCH = N_TRAIN//BATCH_SIZE\n",
        "\n",
        "validate_ds = packed_ds.take(N_VALIDATION).cache()\n",
        "train_ds = packed_ds.skip(N_VALIDATION).take(N_TRAIN).cache()\n",
        "\n",
        "train_ds\n",
        "\n",
        "validate_ds = validate_ds.batch(BATCH_SIZE)\n",
        "train_ds = train_ds.shuffle(BUFFER_SIZE).repeat().batch(BATCH_SIZE)"
      ],
      "execution_count": 0,
      "outputs": []
    },
    {
      "cell_type": "markdown",
      "metadata": {
        "id": "lub6jlIkJua2",
        "colab_type": "text"
      },
      "source": [
        "## Demonstrate overfitting"
      ]
    },
    {
      "cell_type": "markdown",
      "metadata": {
        "id": "KRF_A0p7MaXx",
        "colab_type": "text"
      },
      "source": [
        "### Training procedure"
      ]
    },
    {
      "cell_type": "code",
      "metadata": {
        "id": "K-t7GlTgL0Ja",
        "colab_type": "code",
        "outputId": "13a704ba-e78f-443b-d55a-17242bd57725",
        "colab": {
          "base_uri": "https://localhost:8080/",
          "height": 388
        }
      },
      "source": [
        "lr_schedule = tf.keras.optimizers.schedules.InverseTimeDecay(\n",
        "  0.001,\n",
        "  decay_steps=STEPS_PER_EPOCH*1000,\n",
        "  decay_rate=1,\n",
        "  staircase=False)\n",
        "\n",
        "def get_optimizer():\n",
        "  return tf.keras.optimizers.Adam(lr_schedule)\n",
        "\n",
        "step = np.linspace(0,100000)\n",
        "lr = lr_schedule(step)\n",
        "plt.figure(figsize = (8,6))\n",
        "plt.plot(step/STEPS_PER_EPOCH, lr)\n",
        "plt.ylim([0,max(plt.ylim())])\n",
        "plt.xlabel('Epoch')\n",
        "_ = plt.ylabel('Learning Rate')"
      ],
      "execution_count": 0,
      "outputs": [
        {
          "output_type": "display_data",
          "data": {
            "image/png": "[encoded data removed]",
            "text/plain": [
              "<Figure size 576x432 with 1 Axes>"
            ]
          },
          "metadata": {
            "tags": []
          }
        }
      ]
    },
    {
      "cell_type": "code",
      "metadata": {
        "id": "c0ZxrTDHRafL",
        "colab_type": "code",
        "colab": {}
      },
      "source": [
        "def get_callbacks(name):\n",
        "  return [\n",
        "    tfdocs.modeling.EpochDots(),\n",
        "    tf.keras.callbacks.EarlyStopping(monitor='val_binary_crossentropy', patience=200),\n",
        "    tf.keras.callbacks.TensorBoard(logdir/name),\n",
        "  ]\n",
        "\n",
        "def compile_and_fit(model, name, optimizer=None, max_epochs=10000):\n",
        "  if optimizer is None:\n",
        "    optimizer = get_optimizer()\n",
        "  model.compile(optimizer=optimizer,\n",
        "                loss=tf.keras.losses.BinaryCrossentropy(from_logits=True),\n",
        "                metrics=[\n",
        "                  tf.keras.losses.BinaryCrossentropy(\n",
        "                      from_logits=True, name='binary_crossentropy'),\n",
        "                  'accuracy'])\n",
        "\n",
        "  model.summary()\n",
        "\n",
        "  history = model.fit(\n",
        "    train_ds,\n",
        "    steps_per_epoch = STEPS_PER_EPOCH,\n",
        "    epochs=max_epochs,\n",
        "    validation_data=validate_ds,\n",
        "    callbacks=get_callbacks(name),\n",
        "    verbose=0)\n",
        "  return history"
      ],
      "execution_count": 0,
      "outputs": []
    },
    {
      "cell_type": "markdown",
      "metadata": {
        "id": "sm5kAM_AR196",
        "colab_type": "text"
      },
      "source": [
        "### Tiny model"
      ]
    },
    {
      "cell_type": "code",
      "metadata": {
        "id": "TZ61DMq9R6Tt",
        "colab_type": "code",
        "outputId": "7015c4e3-c109-4da5-98d0-53812d65f2c9",
        "colab": {
          "base_uri": "https://localhost:8080/",
          "height": 734
        }
      },
      "source": [
        "tiny_model = tf.keras.Sequential([\n",
        "    layers.Dense(16, activation='elu', input_shape=(FEATURES,)),\n",
        "    layers.Dense(1)\n",
        "])\n",
        "\n",
        "size_histories = {}\n",
        "size_histories['Tiny'] = compile_and_fit(tiny_model, 'sizes/Tiny')"
      ],
      "execution_count": 0,
      "outputs": [
        {
          "output_type": "stream",
          "text": [
            "Model: \"sequential\"\n",
            "_________________________________________________________________\n",
            "Layer (type)                 Output Shape              Param #   \n",
            "=================================================================\n",
            "dense (Dense)                (None, 16)                464       \n",
            "_________________________________________________________________\n",
            "dense_1 (Dense)              (None, 1)                 17        \n",
            "=================================================================\n",
            "Total params: 481\n",
            "Trainable params: 481\n",
            "Non-trainable params: 0\n",
            "_________________________________________________________________\n",
            "\n",
            "Epoch: 0, accuracy:0.5064,  binary_crossentropy:0.7583,  loss:0.7583,  val_accuracy:0.4830,  val_binary_crossentropy:0.7481,  val_loss:0.7481,  \n",
            "....................................................................................................\n",
            "Epoch: 100, accuracy:0.5923,  binary_crossentropy:0.6304,  loss:0.6304,  val_accuracy:0.5910,  val_binary_crossentropy:0.6282,  val_loss:0.6282,  \n",
            "....................................................................................................\n",
            "Epoch: 200, accuracy:0.6143,  binary_crossentropy:0.6192,  loss:0.6192,  val_accuracy:0.6020,  val_binary_crossentropy:0.6152,  val_loss:0.6152,  \n",
            "....................................................................................................\n",
            "Epoch: 300, accuracy:0.6304,  binary_crossentropy:0.6088,  loss:0.6088,  val_accuracy:0.6210,  val_binary_crossentropy:0.6040,  val_loss:0.6040,  \n",
            "....................................................................................................\n",
            "Epoch: 400, accuracy:0.6521,  binary_crossentropy:0.6000,  loss:0.6000,  val_accuracy:0.6550,  val_binary_crossentropy:0.5951,  val_loss:0.5951,  \n",
            "....................................................................................................\n",
            "Epoch: 500, accuracy:0.6594,  binary_crossentropy:0.5946,  loss:0.5946,  val_accuracy:0.6320,  val_binary_crossentropy:0.5931,  val_loss:0.5931,  \n",
            "....................................................................................................\n",
            "Epoch: 600, accuracy:0.6613,  binary_crossentropy:0.5912,  loss:0.5912,  val_accuracy:0.6280,  val_binary_crossentropy:0.5933,  val_loss:0.5933,  \n",
            "....................................................................................................\n",
            "Epoch: 700, accuracy:0.6661,  binary_crossentropy:0.5878,  loss:0.5878,  val_accuracy:0.6510,  val_binary_crossentropy:0.5904,  val_loss:0.5904,  \n",
            "....................................................................................................\n",
            "Epoch: 800, accuracy:0.6683,  binary_crossentropy:0.5862,  loss:0.5862,  val_accuracy:0.6520,  val_binary_crossentropy:0.5902,  val_loss:0.5902,  \n",
            "....................................................................................................\n",
            "Epoch: 900, accuracy:0.6717,  binary_crossentropy:0.5843,  loss:0.5843,  val_accuracy:0.6490,  val_binary_crossentropy:0.5893,  val_loss:0.5893,  \n",
            "....................................................................................................\n",
            "Epoch: 1000, accuracy:0.6707,  binary_crossentropy:0.5824,  loss:0.5824,  val_accuracy:0.6450,  val_binary_crossentropy:0.5892,  val_loss:0.5892,  \n",
            "....................................................................................................\n",
            "Epoch: 1100, accuracy:0.6699,  binary_crossentropy:0.5809,  loss:0.5809,  val_accuracy:0.6620,  val_binary_crossentropy:0.5888,  val_loss:0.5888,  \n",
            "....................................................................................................\n",
            "Epoch: 1200, accuracy:0.6743,  binary_crossentropy:0.5799,  loss:0.5799,  val_accuracy:0.6420,  val_binary_crossentropy:0.5896,  val_loss:0.5896,  \n",
            "....................................................................................................\n",
            "Epoch: 1300, accuracy:0.6737,  binary_crossentropy:0.5787,  loss:0.5787,  val_accuracy:0.6490,  val_binary_crossentropy:0.5894,  val_loss:0.5894,  \n",
            "........................................................."
          ],
          "name": "stdout"
        }
      ]
    },
    {
      "cell_type": "code",
      "metadata": {
        "id": "EQ_tmXZneZ87",
        "colab_type": "code",
        "outputId": "51117ca0-8782-46dd-ba74-415d3699b749",
        "colab": {
          "base_uri": "https://localhost:8080/",
          "height": 300
        }
      },
      "source": [
        "plotter = tfdocs.plots.HistoryPlotter(metric = 'binary_crossentropy', smoothing_std=10)\n",
        "plotter.plot(size_histories)\n",
        "plt.ylim([0.5, 0.7])"
      ],
      "execution_count": 0,
      "outputs": [
        {
          "output_type": "execute_result",
          "data": {
            "text/plain": [
              "(0.5, 0.7)"
            ]
          },
          "metadata": {
            "tags": []
          },
          "execution_count": 9
        },
        {
          "output_type": "display_data",
          "data": {
            "image/png": "[encoded data removed]",
            "text/plain": [
              "<Figure size 432x288 with 1 Axes>"
            ]
          },
          "metadata": {
            "tags": []
          }
        }
      ]
    },
    {
      "cell_type": "markdown",
      "metadata": {
        "id": "UfHucUEpXnQS",
        "colab_type": "text"
      },
      "source": [
        "### Small model"
      ]
    },
    {
      "cell_type": "code",
      "metadata": {
        "id": "vN-1Y37hXqgO",
        "colab_type": "code",
        "outputId": "d7340e59-0747-4db9-cb94-1146391d83ae",
        "colab": {
          "base_uri": "https://localhost:8080/",
          "height": 496
        }
      },
      "source": [
        "small_model = tf.keras.Sequential([\n",
        "    # `input_shape` is only required here so that `.summary` works.\n",
        "    layers.Dense(16, activation='elu', input_shape=(FEATURES,)),\n",
        "    layers.Dense(16, activation='elu'),\n",
        "    layers.Dense(1)\n",
        "])\n",
        "\n",
        "size_histories['Small'] = compile_and_fit(small_model, 'sizes/Small')"
      ],
      "execution_count": 0,
      "outputs": [
        {
          "output_type": "stream",
          "text": [
            "Model: \"sequential_1\"\n",
            "_________________________________________________________________\n",
            "Layer (type)                 Output Shape              Param #   \n",
            "=================================================================\n",
            "dense_2 (Dense)              (None, 16)                464       \n",
            "_________________________________________________________________\n",
            "dense_3 (Dense)              (None, 16)                272       \n",
            "_________________________________________________________________\n",
            "dense_4 (Dense)              (None, 1)                 17        \n",
            "=================================================================\n",
            "Total params: 753\n",
            "Trainable params: 753\n",
            "Non-trainable params: 0\n",
            "_________________________________________________________________\n",
            "\n",
            "Epoch: 0, accuracy:0.4755,  binary_crossentropy:0.7632,  loss:0.7632,  val_accuracy:0.4630,  val_binary_crossentropy:0.7279,  val_loss:0.7279,  \n",
            "....................................................................................................\n",
            "Epoch: 100, accuracy:0.6350,  binary_crossentropy:0.6097,  loss:0.6097,  val_accuracy:0.6080,  val_binary_crossentropy:0.6153,  val_loss:0.6153,  \n",
            "....................................................................................................\n",
            "Epoch: 200, accuracy:0.6728,  binary_crossentropy:0.5828,  loss:0.5828,  val_accuracy:0.6630,  val_binary_crossentropy:0.5846,  val_loss:0.5846,  \n",
            "....................................................................................................\n",
            "Epoch: 300, accuracy:0.6875,  binary_crossentropy:0.5712,  loss:0.5712,  val_accuracy:0.6550,  val_binary_crossentropy:0.5829,  val_loss:0.5829,  \n",
            "....................................................................................................\n",
            "Epoch: 400, accuracy:0.6955,  binary_crossentropy:0.5636,  loss:0.5636,  val_accuracy:0.6740,  val_binary_crossentropy:0.5805,  val_loss:0.5805,  \n",
            "....................................................................................................\n",
            "Epoch: 500, accuracy:0.6994,  binary_crossentropy:0.5583,  loss:0.5583,  val_accuracy:0.6850,  val_binary_crossentropy:0.5831,  val_loss:0.5831,  \n",
            "........................"
          ],
          "name": "stdout"
        }
      ]
    },
    {
      "cell_type": "markdown",
      "metadata": {
        "id": "vvAAycHbbUL0",
        "colab_type": "text"
      },
      "source": [
        "### Medium model"
      ]
    },
    {
      "cell_type": "code",
      "metadata": {
        "id": "_HMO__6ebakP",
        "colab_type": "code",
        "outputId": "b0736c55-4178-42cd-a1e3-16d5f97060d9",
        "colab": {
          "base_uri": "https://localhost:8080/",
          "height": 428
        }
      },
      "source": [
        "medium_model = tf.keras.Sequential([\n",
        "    layers.Dense(64, activation='elu', input_shape=(FEATURES,)),\n",
        "    layers.Dense(64, activation='elu'),\n",
        "    layers.Dense(64, activation='elu'),\n",
        "    layers.Dense(1)\n",
        "])\n",
        "\n",
        "size_histories['Medium']  = compile_and_fit(medium_model, \"sizes/Medium\")"
      ],
      "execution_count": 0,
      "outputs": [
        {
          "output_type": "stream",
          "text": [
            "Model: \"sequential_2\"\n",
            "_________________________________________________________________\n",
            "Layer (type)                 Output Shape              Param #   \n",
            "=================================================================\n",
            "dense_5 (Dense)              (None, 64)                1856      \n",
            "_________________________________________________________________\n",
            "dense_6 (Dense)              (None, 64)                4160      \n",
            "_________________________________________________________________\n",
            "dense_7 (Dense)              (None, 64)                4160      \n",
            "_________________________________________________________________\n",
            "dense_8 (Dense)              (None, 1)                 65        \n",
            "=================================================================\n",
            "Total params: 10,241\n",
            "Trainable params: 10,241\n",
            "Non-trainable params: 0\n",
            "_________________________________________________________________\n",
            "\n",
            "Epoch: 0, accuracy:0.4795,  binary_crossentropy:0.7180,  loss:0.7180,  val_accuracy:0.4700,  val_binary_crossentropy:0.6883,  val_loss:0.6883,  \n",
            "....................................................................................................\n",
            "Epoch: 100, accuracy:0.7080,  binary_crossentropy:0.5381,  loss:0.5381,  val_accuracy:0.6720,  val_binary_crossentropy:0.6083,  val_loss:0.6083,  \n",
            "....................................................................................................\n",
            "Epoch: 200, accuracy:0.7772,  binary_crossentropy:0.4459,  loss:0.4459,  val_accuracy:0.6610,  val_binary_crossentropy:0.6842,  val_loss:0.6842,  \n",
            "......................................................"
          ],
          "name": "stdout"
        }
      ]
    },
    {
      "cell_type": "markdown",
      "metadata": {
        "id": "T47knqNWbvjt",
        "colab_type": "text"
      },
      "source": [
        "### Large model"
      ]
    },
    {
      "cell_type": "code",
      "metadata": {
        "id": "AdtQObejb6ga",
        "colab_type": "code",
        "outputId": "82df2fef-b980-4c44-a637-7ee29324deb5",
        "colab": {
          "base_uri": "https://localhost:8080/",
          "height": 462
        }
      },
      "source": [
        "large_model = tf.keras.Sequential([\n",
        "    layers.Dense(512, activation='elu', input_shape=(FEATURES,)),\n",
        "    layers.Dense(512, activation='elu'),\n",
        "    layers.Dense(512, activation='elu'),\n",
        "    layers.Dense(512, activation='elu'),\n",
        "    layers.Dense(1)\n",
        "])\n",
        "\n",
        "size_histories['large'] = compile_and_fit(large_model, \"sizes/large\")"
      ],
      "execution_count": 0,
      "outputs": [
        {
          "output_type": "stream",
          "text": [
            "Model: \"sequential_3\"\n",
            "_________________________________________________________________\n",
            "Layer (type)                 Output Shape              Param #   \n",
            "=================================================================\n",
            "dense_9 (Dense)              (None, 512)               14848     \n",
            "_________________________________________________________________\n",
            "dense_10 (Dense)             (None, 512)               262656    \n",
            "_________________________________________________________________\n",
            "dense_11 (Dense)             (None, 512)               262656    \n",
            "_________________________________________________________________\n",
            "dense_12 (Dense)             (None, 512)               262656    \n",
            "_________________________________________________________________\n",
            "dense_13 (Dense)             (None, 1)                 513       \n",
            "=================================================================\n",
            "Total params: 803,329\n",
            "Trainable params: 803,329\n",
            "Non-trainable params: 0\n",
            "_________________________________________________________________\n",
            "\n",
            "Epoch: 0, accuracy:0.4982,  binary_crossentropy:0.8364,  loss:0.8364,  val_accuracy:0.5370,  val_binary_crossentropy:0.6771,  val_loss:0.6771,  \n",
            "....................................................................................................\n",
            "Epoch: 100, accuracy:1.0000,  binary_crossentropy:0.0024,  loss:0.0024,  val_accuracy:0.6410,  val_binary_crossentropy:1.8928,  val_loss:1.8928,  \n",
            "....................................................................................................\n",
            "Epoch: 200, accuracy:1.0000,  binary_crossentropy:0.0001,  loss:0.0001,  val_accuracy:0.6430,  val_binary_crossentropy:2.6069,  val_loss:2.6069,  \n",
            "...................."
          ],
          "name": "stdout"
        }
      ]
    },
    {
      "cell_type": "markdown",
      "metadata": {
        "id": "9bUOXdy8d837",
        "colab_type": "text"
      },
      "source": [
        "### Plot the training and validation losses"
      ]
    },
    {
      "cell_type": "code",
      "metadata": {
        "id": "c4I9UThOeG5p",
        "colab_type": "code",
        "outputId": "2826fd53-a95d-4908-af4a-8c302e51d367",
        "colab": {
          "base_uri": "https://localhost:8080/",
          "height": 304
        }
      },
      "source": [
        "plotter.plot(size_histories)\n",
        "a = plt.xscale('log')\n",
        "plt.xlim([5, max(plt.xlim())])\n",
        "plt.ylim([0.5, 0.7])\n",
        "plt.xlabel(\"Epochs [Log Scale]\")"
      ],
      "execution_count": 0,
      "outputs": [
        {
          "output_type": "execute_result",
          "data": {
            "text/plain": [
              "Text(0.5, 0, 'Epochs [Log Scale]')"
            ]
          },
          "metadata": {
            "tags": []
          },
          "execution_count": 13
        },
        {
          "output_type": "display_data",
          "data": {
            "image/png": "[encoded data removed]",
            "text/plain": [
              "<Figure size 432x288 with 1 Axes>"
            ]
          },
          "metadata": {
            "tags": []
          }
        }
      ]
    },
    {
      "cell_type": "markdown",
      "metadata": {
        "id": "9EEDIXEIfJGs",
        "colab_type": "text"
      },
      "source": [
        "### View in TensorBoard"
      ]
    },
    {
      "cell_type": "code",
      "metadata": {
        "id": "DvgxmsGCfkCG",
        "colab_type": "code",
        "outputId": "4a7e5aae-cc0e-4231-e400-4a6d3718ec98",
        "colab": {
          "base_uri": "https://localhost:8080/",
          "height": 17
        }
      },
      "source": [
        "%tensorboard --logdir {logdir}/sizes"
      ],
      "execution_count": 0,
      "outputs": [
        {
          "output_type": "display_data",
          "data": {
            "application/javascript": [
              "\n",
              "  (async () => {\n",
              "      const url = await google.colab.kernel.proxyPort(6006, {\"cache\": true});\n",
              "      const iframe = document.createElement('iframe');\n",
              "      iframe.src = url;\n",
              "      iframe.setAttribute('width', '100%');\n",
              "      iframe.setAttribute('height', '800');\n",
              "      iframe.setAttribute('frameborder', 0);\n",
              "      document.body.appendChild(iframe);\n",
              "  })();\n",
              "  "
            ],
            "text/plain": [
              "<IPython.core.display.Javascript object>"
            ]
          },
          "metadata": {
            "tags": []
          }
        }
      ]
    },
    {
      "cell_type": "markdown",
      "metadata": {
        "id": "auDbPMCcgE2O",
        "colab_type": "text"
      },
      "source": [
        "### Strategies to prevent overfitting"
      ]
    },
    {
      "cell_type": "code",
      "metadata": {
        "id": "evfGF41kgdbu",
        "colab_type": "code",
        "colab": {}
      },
      "source": [
        "shutil.rmtree(logdir/'regularizers/Tiny', ignore_errors=True)\n",
        "shutil.copytree(logdir/'sizes/Tiny', logdir/'regularizers/Tiny')\n",
        "\n",
        "regularizer_histories = {}\n",
        "regularizer_histories['Tiny'] = size_histories['Tiny']"
      ],
      "execution_count": 0,
      "outputs": []
    },
    {
      "cell_type": "markdown",
      "metadata": {
        "id": "rH5R5bBHg6K5",
        "colab_type": "text"
      },
      "source": [
        "#### Add weight regularization\n",
        "Occam's Razor principle: given two explanations for something, the explanation most likely to be correct is the \"simplest\" one, the one that makes the least amount of assumptions. "
      ]
    },
    {
      "cell_type": "code",
      "metadata": {
        "id": "JLeivyksiTAD",
        "colab_type": "code",
        "outputId": "afa1d8d3-f5ad-4fb7-89b9-35cadb3bdeb3",
        "colab": {
          "base_uri": "https://localhost:8080/",
          "height": 530
        }
      },
      "source": [
        "l2_model = tf.keras.Sequential([\n",
        "    layers.Dense(512, activation='elu',\n",
        "                 kernel_regularizer=regularizers.l2(0.001),\n",
        "                 input_shape=(FEATURES,)),\n",
        "    layers.Dense(512, activation='elu',\n",
        "                 kernel_regularizer=regularizers.l2(0.001)),\n",
        "    layers.Dense(512, activation='elu',\n",
        "                 kernel_regularizer=regularizers.l2(0.001)),\n",
        "    layers.Dense(512, activation='elu',\n",
        "                 kernel_regularizer=regularizers.l2(0.001)),\n",
        "    layers.Dense(1)\n",
        "])\n",
        "\n",
        "regularizer_histories['l2'] = compile_and_fit(l2_model, \"regularizers/l2\")"
      ],
      "execution_count": 0,
      "outputs": [
        {
          "output_type": "stream",
          "text": [
            "Model: \"sequential_4\"\n",
            "_________________________________________________________________\n",
            "Layer (type)                 Output Shape              Param #   \n",
            "=================================================================\n",
            "dense_14 (Dense)             (None, 512)               14848     \n",
            "_________________________________________________________________\n",
            "dense_15 (Dense)             (None, 512)               262656    \n",
            "_________________________________________________________________\n",
            "dense_16 (Dense)             (None, 512)               262656    \n",
            "_________________________________________________________________\n",
            "dense_17 (Dense)             (None, 512)               262656    \n",
            "_________________________________________________________________\n",
            "dense_18 (Dense)             (None, 1)                 513       \n",
            "=================================================================\n",
            "Total params: 803,329\n",
            "Trainable params: 803,329\n",
            "Non-trainable params: 0\n",
            "_________________________________________________________________\n",
            "\n",
            "Epoch: 0, accuracy:0.5034,  binary_crossentropy:0.8268,  loss:2.3518,  val_accuracy:0.4790,  val_binary_crossentropy:0.6963,  val_loss:2.1482,  \n",
            "....................................................................................................\n",
            "Epoch: 100, accuracy:0.6547,  binary_crossentropy:0.5976,  loss:0.6209,  val_accuracy:0.6770,  val_binary_crossentropy:0.5854,  val_loss:0.6089,  \n",
            "....................................................................................................\n",
            "Epoch: 200, accuracy:0.6756,  binary_crossentropy:0.5831,  loss:0.6055,  val_accuracy:0.6340,  val_binary_crossentropy:0.5904,  val_loss:0.6128,  \n",
            ".................................................................................................\n",
            "Epoch: 300, accuracy:0.6803,  binary_crossentropy:0.5775,  loss:0.5989,  val_accuracy:0.6750,  val_binary_crossentropy:0.5842,  val_loss:0.6056,  \n",
            "....................................................................................................\n",
            "Epoch: 400, accuracy:0.6814,  binary_crossentropy:0.5747,  loss:0.5983,  val_accuracy:0.6760,  val_binary_crossentropy:0.5811,  val_loss:0.6047,  \n",
            "........................................................."
          ],
          "name": "stdout"
        }
      ]
    },
    {
      "cell_type": "code",
      "metadata": {
        "id": "R9-c14omikZe",
        "colab_type": "code",
        "outputId": "96394e84-570e-48ea-d850-76cda774dcfa",
        "colab": {
          "base_uri": "https://localhost:8080/",
          "height": 320
        }
      },
      "source": [
        "plotter.plot(regularizer_histories)\n",
        "plt.ylim([0.5, 0.7])"
      ],
      "execution_count": 0,
      "outputs": [
        {
          "output_type": "execute_result",
          "data": {
            "text/plain": [
              "(0.5, 0.7)"
            ]
          },
          "metadata": {
            "tags": []
          },
          "execution_count": 17
        },
        {
          "output_type": "display_data",
          "data": {
            "image/png": "[encoded data removed]",
            "text/plain": [
              "<Figure size 432x288 with 1 Axes>"
            ]
          },
          "metadata": {
            "tags": []
          }
        }
      ]
    },
    {
      "cell_type": "markdown",
      "metadata": {
        "id": "edvPCUCwi9b8",
        "colab_type": "text"
      },
      "source": [
        "#### Add dropout\n",
        "The \"dropout rate\" is the fraction of the features that are being zeroed-out; it is usually set between 0.2 and 0.5. At test time, no units are dropped out, and instead the layer's output values are scaled down by a factor equal to the dropout rate, so as to balance for the fact that more units are active than at training time.\n"
      ]
    },
    {
      "cell_type": "code",
      "metadata": {
        "id": "It5WU3hAZ8Wh",
        "colab_type": "code",
        "outputId": "c40879ff-47b5-4ab2-ed7b-78c4f375fac5",
        "colab": {
          "base_uri": "https://localhost:8080/",
          "height": 632
        }
      },
      "source": [
        "dropout_model = tf.keras.Sequential([\n",
        "    layers.Dense(512, activation='elu', input_shape=(FEATURES,)),\n",
        "    layers.Dropout(0.5),\n",
        "    layers.Dense(512, activation='elu'),\n",
        "    layers.Dropout(0.5),\n",
        "    layers.Dense(512, activation='elu'),\n",
        "    layers.Dropout(0.5),\n",
        "    layers.Dense(512, activation='elu'),\n",
        "    layers.Dropout(0.5),\n",
        "    layers.Dense(1)\n",
        "])\n",
        "\n",
        "regularizer_histories['dropout'] = compile_and_fit(dropout_model, \"regularizers/dropout\")"
      ],
      "execution_count": 0,
      "outputs": [
        {
          "output_type": "stream",
          "text": [
            "Model: \"sequential_5\"\n",
            "_________________________________________________________________\n",
            "Layer (type)                 Output Shape              Param #   \n",
            "=================================================================\n",
            "dense_19 (Dense)             (None, 512)               14848     \n",
            "_________________________________________________________________\n",
            "dropout (Dropout)            (None, 512)               0         \n",
            "_________________________________________________________________\n",
            "dense_20 (Dense)             (None, 512)               262656    \n",
            "_________________________________________________________________\n",
            "dropout_1 (Dropout)          (None, 512)               0         \n",
            "_________________________________________________________________\n",
            "dense_21 (Dense)             (None, 512)               262656    \n",
            "_________________________________________________________________\n",
            "dropout_2 (Dropout)          (None, 512)               0         \n",
            "_________________________________________________________________\n",
            "dense_22 (Dense)             (None, 512)               262656    \n",
            "_________________________________________________________________\n",
            "dropout_3 (Dropout)          (None, 512)               0         \n",
            "_________________________________________________________________\n",
            "dense_23 (Dense)             (None, 1)                 513       \n",
            "=================================================================\n",
            "Total params: 803,329\n",
            "Trainable params: 803,329\n",
            "Non-trainable params: 0\n",
            "_________________________________________________________________\n",
            "\n",
            "Epoch: 0, accuracy:0.4937,  binary_crossentropy:0.8321,  loss:0.8321,  val_accuracy:0.4680,  val_binary_crossentropy:0.6783,  val_loss:0.6783,  \n",
            "....................................................................................................\n",
            "Epoch: 100, accuracy:0.6621,  binary_crossentropy:0.5995,  loss:0.5995,  val_accuracy:0.6660,  val_binary_crossentropy:0.5785,  val_loss:0.5785,  \n",
            "....................................................................................................\n",
            "Epoch: 200, accuracy:0.6861,  binary_crossentropy:0.5590,  loss:0.5590,  val_accuracy:0.6790,  val_binary_crossentropy:0.5819,  val_loss:0.5819,  \n",
            "....................................................................................................\n",
            "Epoch: 300, accuracy:0.7194,  binary_crossentropy:0.5164,  loss:0.5164,  val_accuracy:0.6790,  val_binary_crossentropy:0.5969,  val_loss:0.5969,  \n",
            "..............."
          ],
          "name": "stdout"
        }
      ]
    },
    {
      "cell_type": "markdown",
      "metadata": {
        "id": "oWsOKNEsmRtW",
        "colab_type": "text"
      },
      "source": [
        "## Conclusions\n",
        "To recap: here are the most common ways to prevent overfitting in neural networks:\n",
        "- Get more training data.\n",
        "- Reduce the capacity of the network.\n",
        "- Add weight regularization.\n",
        "- Add dropout.\n",
        "\n",
        "Two important approaches not covered in this guide are:\n",
        "- data-augmentation\n",
        "- batch normalization\n",
        "\n",
        "Remember that each method can help on its own, but often combining them can be even more effective."
      ]
    }
  ]
}