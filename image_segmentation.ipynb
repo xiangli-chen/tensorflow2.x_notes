{
  "nbformat": 4,
  "nbformat_minor": 0,
  "metadata": {
    "colab": {
      "name": "image_segmentation.ipynb",
      "provenance": [],
      "authorship_tag": "ABX9TyOrckA1sJAwS+cmUTuv5WaR",
      "include_colab_link": true
    },
    "kernelspec": {
      "name": "python3",
      "display_name": "Python 3"
    }
  },
  "cells": [
    {
      "cell_type": "markdown",
      "metadata": {
        "id": "view-in-github",
        "colab_type": "text"
      },
      "source": [
        "<a href=\"https://colab.research.google.com/github/xiangli-chen/tensorflow2.x_notes/blob/master/image_segmentation.ipynb\" target=\"_parent\"><img src=\"https://colab.research.google.com/assets/colab-badge.svg\" alt=\"Open In Colab\"/></a>"
      ]
    },
    {
      "cell_type": "markdown",
      "metadata": {
        "id": "fN77iRPTnnZn",
        "colab_type": "text"
      },
      "source": [
        "# Image segmentation"
      ]
    }
  ]
}